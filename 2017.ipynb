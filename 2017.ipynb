{
 "cells": [
  {
   "cell_type": "markdown",
   "metadata": {},
   "source": [
    "## Business Understanding\n",
    "\n",
    "I am interested in using a data analysis approach to know more about the situation of Women in Computer Programming. I hope to use the analysis results to provide some useful information to anyone who need this kind of research. The key questions I would like to answer are:\n",
    "\n",
    "- what is the situation of women in Italy in the programming world compared to man?\n",
    "- what is the identikit of women who work in computer programming in Italy? What are their qualifications?\n",
    "- Instead in USA, what is the situation of super qualified women in tech ?\n",
    "\n",
    "## Data Understanding\n",
    "\n",
    "The data used in this analysi was Stack Overflow’s developer survey data from 2017 to 2019. Respondents from about 200 countries gave their answers to about 150 survey questions. This notebook attempted to use the survey questions to answer the three questions listed in the Business Understanding section.\n",
    "\n",
    "## Gather Data\n",
    "\n",
    "Data has been gathered by Stack Overflow survey. The following cells import necessary Python libraries, and read them into Pandas Dataframe."
   ]
  },
  {
   "cell_type": "code",
   "execution_count": 32,
   "metadata": {},
   "outputs": [],
   "source": [
    "import pandas as pd\n",
    "import numpy as np \n",
    "import matplotlib.pyplot as plt\n",
    "from pandasql import sqldf"
   ]
  },
  {
   "cell_type": "markdown",
   "metadata": {},
   "source": [
    "## Italy situation in 2017"
   ]
  },
  {
   "cell_type": "markdown",
   "metadata": {},
   "source": [
    "## Prepare Data\n",
    "\n",
    "The following cell help me to access Data, select the columns and the values that I need for my analysis."
   ]
  },
  {
   "cell_type": "code",
   "execution_count": 33,
   "metadata": {},
   "outputs": [],
   "source": [
    "#Read data\n",
    "stack_2017 = pd.read_csv('2017_survey_results_public.csv')"
   ]
  },
  {
   "cell_type": "code",
   "execution_count": 34,
   "metadata": {},
   "outputs": [],
   "source": [
    "stack_2017 = stack_2017[['Country','Gender','FormalEducation','Professional','Salary']]"
   ]
  },
  {
   "cell_type": "code",
   "execution_count": 35,
   "metadata": {},
   "outputs": [],
   "source": [
    "Italy_2017 = stack_2017.loc[stack_2017['Country']=='Italy']"
   ]
  },
  {
   "cell_type": "code",
   "execution_count": 36,
   "metadata": {},
   "outputs": [],
   "source": [
    "#In this part I used dropna in order to drop all null value in the column Gender. For my analysis I need only to know if the gender is Male of Female#\n",
    "Ita_2017 = Italy_2017.dropna(subset = ['Gender']) "
   ]
  },
  {
   "cell_type": "code",
   "execution_count": 37,
   "metadata": {},
   "outputs": [],
   "source": [
    "Ita_17 = Ita_2017[Ita_2017['Gender'].isin(['Male','Female'])]\n",
    "Ita_Dev17 = Ita_17[Ita_17['Professional'].isin(['Professional developer'])]"
   ]
  },
  {
   "cell_type": "code",
   "execution_count": 38,
   "metadata": {},
   "outputs": [],
   "source": [
    "Ita_F17 = Ita_Dev17.loc[Ita_Dev17['Gender']=='Female']"
   ]
  },
  {
   "cell_type": "code",
   "execution_count": 39,
   "metadata": {},
   "outputs": [],
   "source": [
    "Ita_M17 = Ita_Dev17.loc[Ita_Dev17['Gender']=='Male']"
   ]
  },
  {
   "cell_type": "markdown",
   "metadata": {},
   "source": [
    "## Results for Italy in 2017"
   ]
  },
  {
   "cell_type": "code",
   "execution_count": 40,
   "metadata": {},
   "outputs": [
    {
     "name": "stdout",
     "output_type": "stream",
     "text": [
      "391\n",
      "12\n",
      "379\n"
     ]
    }
   ],
   "source": [
    "# A first overview of the total number of people in tech world based on the data of the survey#\n",
    "print(Ita_Dev17.shape[0])\n",
    "# A first overview of the number of female in tech world#\n",
    "print(Ita_F17.shape[0])\n",
    "# A first overview of the number of male in tech world#\n",
    "print(Ita_M17.shape[0])"
   ]
  },
  {
   "cell_type": "code",
   "execution_count": 41,
   "metadata": {},
   "outputs": [],
   "source": [
    "perc_Ita_F = Ita_F17.shape[0] / Ita_Dev17.shape[0] *100"
   ]
  },
  {
   "cell_type": "code",
   "execution_count": 42,
   "metadata": {},
   "outputs": [
    {
     "data": {
      "text/plain": [
       "'3.07 %'"
      ]
     },
     "execution_count": 42,
     "metadata": {},
     "output_type": "execute_result"
    }
   ],
   "source": [
    "#Percentage of women in tech world in Italy #\n",
    "\"{:.2f} %\".format(perc_Ita_F)"
   ]
  },
  {
   "cell_type": "code",
   "execution_count": 44,
   "metadata": {},
   "outputs": [],
   "source": [
    "func = lambda q : sqldf(q , globals())\n",
    "\n",
    "q = \"\"\"\n",
    "select *\n",
    "from Ita_Dev17\n",
    "where FormalEducation like '%Master%' or \n",
    "FormalEducation like '%Bachelor%' or \n",
    "FormalEducation like '%Professional%' or \n",
    "FormalEducation like '%doctoral%';\n",
    "\"\"\"\n",
    "\n",
    "Dev_OverQual17_Ita = func(q)"
   ]
  },
  {
   "cell_type": "code",
   "execution_count": 45,
   "metadata": {},
   "outputs": [
    {
     "data": {
      "text/html": [
       "<div>\n",
       "<style scoped>\n",
       "    .dataframe tbody tr th:only-of-type {\n",
       "        vertical-align: middle;\n",
       "    }\n",
       "\n",
       "    .dataframe tbody tr th {\n",
       "        vertical-align: top;\n",
       "    }\n",
       "\n",
       "    .dataframe thead th {\n",
       "        text-align: right;\n",
       "    }\n",
       "</style>\n",
       "<table border=\"1\" class=\"dataframe\">\n",
       "  <thead>\n",
       "    <tr style=\"text-align: right;\">\n",
       "      <th></th>\n",
       "      <th>Country</th>\n",
       "      <th>Gender</th>\n",
       "      <th>FormalEducation</th>\n",
       "      <th>Professional</th>\n",
       "      <th>Salary</th>\n",
       "    </tr>\n",
       "  </thead>\n",
       "  <tbody>\n",
       "    <tr>\n",
       "      <th>0</th>\n",
       "      <td>Italy</td>\n",
       "      <td>Male</td>\n",
       "      <td>Master's degree</td>\n",
       "      <td>Professional developer</td>\n",
       "      <td>NaN</td>\n",
       "    </tr>\n",
       "    <tr>\n",
       "      <th>1</th>\n",
       "      <td>Italy</td>\n",
       "      <td>Male</td>\n",
       "      <td>Master's degree</td>\n",
       "      <td>Professional developer</td>\n",
       "      <td>43010.752688</td>\n",
       "    </tr>\n",
       "    <tr>\n",
       "      <th>2</th>\n",
       "      <td>Italy</td>\n",
       "      <td>Male</td>\n",
       "      <td>Some college/university study without earning ...</td>\n",
       "      <td>Professional developer</td>\n",
       "      <td>NaN</td>\n",
       "    </tr>\n",
       "    <tr>\n",
       "      <th>3</th>\n",
       "      <td>Italy</td>\n",
       "      <td>Male</td>\n",
       "      <td>Bachelor's degree</td>\n",
       "      <td>Professional developer</td>\n",
       "      <td>37634.408602</td>\n",
       "    </tr>\n",
       "    <tr>\n",
       "      <th>4</th>\n",
       "      <td>Italy</td>\n",
       "      <td>Male</td>\n",
       "      <td>Some college/university study without earning ...</td>\n",
       "      <td>Professional developer</td>\n",
       "      <td>43010.752688</td>\n",
       "    </tr>\n",
       "  </tbody>\n",
       "</table>\n",
       "</div>"
      ],
      "text/plain": [
       "  Country Gender                                    FormalEducation  \\\n",
       "0   Italy   Male                                    Master's degree   \n",
       "1   Italy   Male                                    Master's degree   \n",
       "2   Italy   Male  Some college/university study without earning ...   \n",
       "3   Italy   Male                                  Bachelor's degree   \n",
       "4   Italy   Male  Some college/university study without earning ...   \n",
       "\n",
       "             Professional        Salary  \n",
       "0  Professional developer           NaN  \n",
       "1  Professional developer  43010.752688  \n",
       "2  Professional developer           NaN  \n",
       "3  Professional developer  37634.408602  \n",
       "4  Professional developer  43010.752688  "
      ]
     },
     "execution_count": 45,
     "metadata": {},
     "output_type": "execute_result"
    }
   ],
   "source": [
    "Dev_OverQual17_Ita.head()"
   ]
  },
  {
   "cell_type": "code",
   "execution_count": 46,
   "metadata": {},
   "outputs": [],
   "source": [
    "#percentage of woman developer overqualified on number of developer women#\n",
    "Dev_OverQual_F17_Ita = len(Dev_OverQual17_Ita.loc[Dev_OverQual17_Ita['Gender']=='Female'])/Ita_F17.shape[0] * 100 \n",
    "\n",
    "#percentage of man developer overqualified on number of developer man#\n",
    "Dev_OverQual_M17_Ita = len(Dev_OverQual17_Ita.loc[Dev_OverQual17_Ita['Gender']=='Male'])/Ita_M17.shape[0] * 100 "
   ]
  },
  {
   "cell_type": "code",
   "execution_count": 47,
   "metadata": {},
   "outputs": [
    {
     "name": "stdout",
     "output_type": "stream",
     "text": [
      "91.67 %\n",
      "77.57 %\n"
     ]
    }
   ],
   "source": [
    "# output: percentage of woman developer overqualified on number of developer women#\n",
    "print(\"{:.2f} %\".format(Dev_OverQual_F17_Ita))\n",
    "# output: percentage of woman developer overqualified on number of developer women#\n",
    "print(\"{:.2f} %\".format(Dev_OverQual_M17_Ita))"
   ]
  },
  {
   "cell_type": "code",
   "execution_count": 18,
   "metadata": {},
   "outputs": [],
   "source": [
    "## export outputs ##\n",
    "Italy_2017.to_excel(r'C:\\Users\\moryb\\OneDrive\\Desktop\\Project1\\output\\output_17\\Ita_17\\Italy_2017.xlsx', index=False, header=True)\n",
    "Ita_2017.to_excel(r'C:\\Users\\moryb\\OneDrive\\Desktop\\Project1\\output\\output_17\\Ita_17\\ItaDropnaByGender_2017.xlsx', index=False, header=True)\n",
    "Ita_17.to_excel(r'C:\\Users\\moryb\\OneDrive\\Desktop\\Project1\\output\\output_17\\Ita_17\\ItaMF_17.xlsx', index=False, header=True)\n",
    "Ita_Dev17.to_excel(r'C:\\Users\\moryb\\OneDrive\\Desktop\\Project1\\output\\output_17\\Ita_17\\ItaDev_17.xlsx', index=False, header=True)\n",
    "Ita_F17.to_excel(r'C:\\Users\\moryb\\OneDrive\\Desktop\\Project1\\output\\output_17\\Ita_17\\ItaDev_F17.xlsx', index=False, header=True)\n",
    "Ita_M17.to_excel(r'C:\\Users\\moryb\\OneDrive\\Desktop\\Project1\\output\\output_17\\Ita_17\\ItaDev_M17.xlsx', index=False, header=True)\n",
    "Dev_OverQual17_Ita.to_excel(r'C:\\Users\\moryb\\OneDrive\\Desktop\\Project1\\output\\output_17\\Ita_17\\ItaDev_OverQ17.xlsx', index=False, header=True)"
   ]
  },
  {
   "cell_type": "markdown",
   "metadata": {},
   "source": [
    "## USA Situation in 2017   \n",
    "\n",
    "## Prepare Data\n",
    "\n",
    "The following cell help me to access Data, select the columns and the values that I need for my analysis."
   ]
  },
  {
   "cell_type": "code",
   "execution_count": 48,
   "metadata": {},
   "outputs": [],
   "source": [
    "Usa_2017 = stack_2017.loc[stack_2017['Country']=='United States']"
   ]
  },
  {
   "cell_type": "code",
   "execution_count": 49,
   "metadata": {},
   "outputs": [],
   "source": [
    "#In this part I used dropna in order to drop all null value in the column Gender. For my analysis I need only to know if the gender is Male of Female#\n",
    "Usa_17 = Usa_2017.dropna(subset = ['Gender'])"
   ]
  },
  {
   "cell_type": "code",
   "execution_count": 50,
   "metadata": {},
   "outputs": [],
   "source": [
    "USA_MF17 = Usa_17[Usa_17['Gender'].isin(['Male','Female'])]\n",
    "Usa_Dev17 = USA_MF17[USA_MF17['Professional'].isin(['Professional developer'])]"
   ]
  },
  {
   "cell_type": "code",
   "execution_count": 51,
   "metadata": {},
   "outputs": [],
   "source": [
    "Usa_F17 = Usa_Dev17.loc[Usa_Dev17['Gender']=='Female']"
   ]
  },
  {
   "cell_type": "code",
   "execution_count": 52,
   "metadata": {},
   "outputs": [],
   "source": [
    "Usa_M17 = Usa_Dev17.loc[Usa_Dev17['Gender']=='Male']"
   ]
  },
  {
   "cell_type": "markdown",
   "metadata": {},
   "source": [
    "## Results for Usa in 2017"
   ]
  },
  {
   "cell_type": "code",
   "execution_count": 53,
   "metadata": {},
   "outputs": [
    {
     "name": "stdout",
     "output_type": "stream",
     "text": [
      "6373\n",
      "636\n",
      "5737\n"
     ]
    }
   ],
   "source": [
    "# A first overview of the total number of people in tech world in Usa based on the data of the survey#\n",
    "print(Usa_Dev17.shape[0])\n",
    "# A first overview of the number of women in tech world in Usa based on the data of the survey#\n",
    "print(Usa_F17.shape[0])\n",
    "# A first overview of the total number of men in tech world in Usa based on the data of the survey#\n",
    "print(Usa_M17.shape[0])"
   ]
  },
  {
   "cell_type": "code",
   "execution_count": 54,
   "metadata": {},
   "outputs": [],
   "source": [
    "perc_Usa_F = Usa_F17.shape[0] / Usa_Dev17.shape[0] *100"
   ]
  },
  {
   "cell_type": "code",
   "execution_count": 55,
   "metadata": {},
   "outputs": [
    {
     "data": {
      "text/plain": [
       "'9.98 %'"
      ]
     },
     "execution_count": 55,
     "metadata": {},
     "output_type": "execute_result"
    }
   ],
   "source": [
    "#Percentage of women in tech world in Usa in 2017 #\n",
    "\"{:.2f} %\".format(perc_Usa_F)"
   ]
  },
  {
   "cell_type": "code",
   "execution_count": 56,
   "metadata": {},
   "outputs": [],
   "source": [
    "func_1 = lambda d : sqldf(d , globals())\n",
    "\n",
    "d = \"\"\"\n",
    "select *\n",
    "from Usa_Dev17\n",
    "    where FormalEducation like '%Master%' or \n",
    "    FormalEducation like'%Bachelor%' or \n",
    "    FormalEducation like'%Professional%' or \n",
    "    FormalEducation like'%doctoral%';\n",
    "\"\"\"\n",
    "\n",
    "Dev_OverQual17_Usa = func(d)"
   ]
  },
  {
   "cell_type": "code",
   "execution_count": 57,
   "metadata": {},
   "outputs": [
    {
     "data": {
      "text/html": [
       "<div>\n",
       "<style scoped>\n",
       "    .dataframe tbody tr th:only-of-type {\n",
       "        vertical-align: middle;\n",
       "    }\n",
       "\n",
       "    .dataframe tbody tr th {\n",
       "        vertical-align: top;\n",
       "    }\n",
       "\n",
       "    .dataframe thead th {\n",
       "        text-align: right;\n",
       "    }\n",
       "</style>\n",
       "<table border=\"1\" class=\"dataframe\">\n",
       "  <thead>\n",
       "    <tr style=\"text-align: right;\">\n",
       "      <th></th>\n",
       "      <th>Country</th>\n",
       "      <th>Gender</th>\n",
       "      <th>FormalEducation</th>\n",
       "      <th>Professional</th>\n",
       "      <th>Salary</th>\n",
       "    </tr>\n",
       "  </thead>\n",
       "  <tbody>\n",
       "    <tr>\n",
       "      <th>0</th>\n",
       "      <td>United States</td>\n",
       "      <td>Male</td>\n",
       "      <td>Bachelor's degree</td>\n",
       "      <td>Professional developer</td>\n",
       "      <td>130000.0</td>\n",
       "    </tr>\n",
       "    <tr>\n",
       "      <th>1</th>\n",
       "      <td>United States</td>\n",
       "      <td>Male</td>\n",
       "      <td>Master's degree</td>\n",
       "      <td>Professional developer</td>\n",
       "      <td>175000.0</td>\n",
       "    </tr>\n",
       "    <tr>\n",
       "      <th>2</th>\n",
       "      <td>United States</td>\n",
       "      <td>Male</td>\n",
       "      <td>Bachelor's degree</td>\n",
       "      <td>Professional developer</td>\n",
       "      <td>NaN</td>\n",
       "    </tr>\n",
       "    <tr>\n",
       "      <th>3</th>\n",
       "      <td>United States</td>\n",
       "      <td>Male</td>\n",
       "      <td>Bachelor's degree</td>\n",
       "      <td>Professional developer</td>\n",
       "      <td>NaN</td>\n",
       "    </tr>\n",
       "    <tr>\n",
       "      <th>4</th>\n",
       "      <td>United States</td>\n",
       "      <td>Male</td>\n",
       "      <td>Master's degree</td>\n",
       "      <td>Professional developer</td>\n",
       "      <td>NaN</td>\n",
       "    </tr>\n",
       "  </tbody>\n",
       "</table>\n",
       "</div>"
      ],
      "text/plain": [
       "         Country Gender    FormalEducation            Professional    Salary\n",
       "0  United States   Male  Bachelor's degree  Professional developer  130000.0\n",
       "1  United States   Male    Master's degree  Professional developer  175000.0\n",
       "2  United States   Male  Bachelor's degree  Professional developer       NaN\n",
       "3  United States   Male  Bachelor's degree  Professional developer       NaN\n",
       "4  United States   Male    Master's degree  Professional developer       NaN"
      ]
     },
     "execution_count": 57,
     "metadata": {},
     "output_type": "execute_result"
    }
   ],
   "source": [
    "Dev_OverQual17_Usa.head()"
   ]
  },
  {
   "cell_type": "code",
   "execution_count": 58,
   "metadata": {},
   "outputs": [],
   "source": [
    "### percentage of woman developer overqualified on number of developer women##\n",
    "Dev_OverQual_F17_Usa = len(Dev_OverQual17_Usa.loc[Dev_OverQual17_Usa['Gender']=='Female'])/Usa_F17.shape[0] * 100 \n",
    "\n",
    "### percentage of man developer overqualified on number of developer man##\n",
    "Dev_OverQual_M17_Usa = len(Dev_OverQual17_Usa.loc[Dev_OverQual17_Usa['Gender']=='Male'])/Usa_M17.shape[0] * 100 "
   ]
  },
  {
   "cell_type": "code",
   "execution_count": 59,
   "metadata": {},
   "outputs": [
    {
     "name": "stdout",
     "output_type": "stream",
     "text": [
      "99.69 %\n",
      "95.76 %\n"
     ]
    }
   ],
   "source": [
    "### percentage of woman developer overqualified on number of developer women##\n",
    "print(\"{:.2f} %\".format(Dev_OverQual_F17_Usa))\n",
    "### percentage of man developer overqualified on number of developer man##\n",
    "print(\"{:.2f} %\".format(Dev_OverQual_M17_Usa))"
   ]
  },
  {
   "cell_type": "code",
   "execution_count": 54,
   "metadata": {},
   "outputs": [],
   "source": [
    "########### export outputs #########################\n",
    "Usa_2017.to_excel(r'C:\\Users\\moryb\\OneDrive\\Desktop\\Project1\\output\\output_17\\Usa_17\\Usa_2017.xlsx', index=False, header=True)\n",
    "Usa_17.to_excel(r'C:\\Users\\moryb\\OneDrive\\Desktop\\Project1\\output\\output_17\\Usa_17\\UsaDropnaByGender_2017.xlsx', index=False, header=True)\n",
    "USA_MF17.to_excel(r'C:\\Users\\moryb\\OneDrive\\Desktop\\Project1\\output\\output_17\\Usa_17\\UsaMF_17.xlsx', index=False, header=True)\n",
    "Usa_Dev17.to_excel(r'C:\\Users\\moryb\\OneDrive\\Desktop\\Project1\\output\\output_17\\Usa_17\\UsaDev_17.xlsx', index=False, header=True)\n",
    "Usa_F17.to_excel(r'C:\\Users\\moryb\\OneDrive\\Desktop\\Project1\\output\\output_17\\Usa_17\\UsaDev_F17.xlsx', index=False, header=True)\n",
    "Usa_M17.to_excel(r'C:\\Users\\moryb\\OneDrive\\Desktop\\Project1\\output\\output_17\\Usa_17\\UsaDev_M17.xlsx', index=False, header=True)\n",
    "Dev_OverQual17_Usa.to_excel(r'C:\\Users\\moryb\\OneDrive\\Desktop\\Project1\\output\\output_17\\Usa_17\\UsaDev_OverQ17.xlsx', index=False, header=True)"
   ]
  }
 ],
 "metadata": {
  "kernelspec": {
   "display_name": "Python 3",
   "language": "python",
   "name": "python3"
  },
  "language_info": {
   "codemirror_mode": {
    "name": "ipython",
    "version": 3
   },
   "file_extension": ".py",
   "mimetype": "text/x-python",
   "name": "python",
   "nbconvert_exporter": "python",
   "pygments_lexer": "ipython3",
   "version": "3.7.6"
  }
 },
 "nbformat": 4,
 "nbformat_minor": 4
}
