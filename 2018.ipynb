{
 "cells": [
  {
   "cell_type": "markdown",
   "metadata": {},
   "source": [
    "## Business Understanding\n",
    "\n",
    "I am interested in using a data analysis approach to know more about the situation of Women in Computer Programming. I hope to use the analysis results to provide some useful information to everyone who need this kind of research. The key questions I would like to answer are:\n",
    "\n",
    "- what is the situation of women in Italy in the programming world compared to man?\n",
    "- what is the identikit of women who work in computer programming in Italy? What are their qualifications?\n",
    "- Instead in USA, what is the situation of super qualified women in tech ?\n",
    "\n",
    "## Data Understanding\n",
    "\n",
    "The data used in this analysi was Stack Overflow’s developer survey data from 2017 to 2019. Respondents from about 200 countries gave their answers to about 150 survey questions. This notebook attempted to use the survey questions to answer the three questions listed in the Business Understanding section.\n",
    "\n",
    "## Gather Data\n",
    "\n",
    "Data has been gathered by Stack Overflow survey. The following cells import necessary Python libraries, and read them into Pandas Dataframe."
   ]
  },
  {
   "cell_type": "code",
   "execution_count": 1,
   "metadata": {},
   "outputs": [],
   "source": [
    "import pandas as pd\n",
    "import numpy as np \n",
    "import matplotlib.pyplot as plt\n",
    "from pandasql import sqldf "
   ]
  },
  {
   "cell_type": "markdown",
   "metadata": {},
   "source": [
    "## Italy situation in 2018"
   ]
  },
  {
   "cell_type": "markdown",
   "metadata": {},
   "source": [
    "## Prepare Data\n",
    "\n",
    "The following cell help me to access Data, select the columns and the values that I need for my analysis "
   ]
  },
  {
   "cell_type": "markdown",
   "metadata": {},
   "source": [
    "## Results for Italy in 2018"
   ]
  },
  {
   "cell_type": "code",
   "execution_count": 2,
   "metadata": {},
   "outputs": [
    {
     "name": "stderr",
     "output_type": "stream",
     "text": [
      "C:\\Users\\moryb\\anaconda\\lib\\site-packages\\IPython\\core\\interactiveshell.py:3063: DtypeWarning: Columns (8,12,13,14,15,16,50,51,52,53,55,56,57,58,59,60,61,62,63,64,65,66,67,68,69,70,71,72,73,74,75,76,77,78,79,80,81,82,83,84,85,93,94,95,96,97,98,99,100,101,102,103,104,105,106,107,108,109,110,111,112,113,114,115,116,117,118,119,120,121,122,123,124,125,126,127,128) have mixed types.Specify dtype option on import or set low_memory=False.\n",
      "  interactivity=interactivity, compiler=compiler, result=result)\n"
     ]
    }
   ],
   "source": [
    "stack_2018 = pd.read_csv('2018_survey_results_public.csv')\n",
    "\n",
    "stack_2018 = stack_2018[['Country','Gender','FormalEducation','DevType','Salary']]\n",
    "\n",
    "Italy_2018 = stack_2018.loc[stack_2018['Country']=='Italy']\n",
    "#In this part I used dropna in order to drop all null value in the column Gender. For my analysis I need only to know if the gender is Male of Female#\n",
    "Ita_2018 = Italy_2018.dropna(subset = ['Gender'])\n",
    "\n",
    "Ita_18 = Ita_2018[Ita_2018['Gender'].isin(['Male','Female'])]\n",
    "Ita_Dev18 = Ita_18.dropna(subset = ['DevType'])\n",
    "\n",
    "Ita_F18 = Ita_Dev18.loc[Ita_Dev18['Gender']=='Female']\n",
    "\n",
    "\n",
    "Ita_M18 = Ita_Dev18.loc[Ita_Dev18['Gender']=='Male']\n"
   ]
  },
  {
   "cell_type": "markdown",
   "metadata": {},
   "source": [
    "## Results for Italy in 2018"
   ]
  },
  {
   "cell_type": "code",
   "execution_count": 3,
   "metadata": {},
   "outputs": [
    {
     "name": "stdout",
     "output_type": "stream",
     "text": [
      "1025\n",
      "24\n",
      "1001\n"
     ]
    }
   ],
   "source": [
    "# A first overview of the total number of people in tech world based on the data of the survey#\n",
    "print(Ita_Dev18.shape[0])\n",
    "# A first overview of the number of female in tech world#\n",
    "print(Ita_F18.shape[0])\n",
    "# A first overview of the number of male in tech world#\n",
    "print(Ita_M18.shape[0])"
   ]
  },
  {
   "cell_type": "code",
   "execution_count": 4,
   "metadata": {},
   "outputs": [],
   "source": [
    "perc_Ita_F18 = Ita_F18.shape[0] / Ita_Dev18.shape[0] *100"
   ]
  },
  {
   "cell_type": "code",
   "execution_count": 5,
   "metadata": {},
   "outputs": [
    {
     "data": {
      "text/plain": [
       "'2.34 %'"
      ]
     },
     "execution_count": 5,
     "metadata": {},
     "output_type": "execute_result"
    }
   ],
   "source": [
    "#Percentage of women in tech world in Italy #\n",
    "\"{:.2f} %\".format(perc_Ita_F18)"
   ]
  },
  {
   "cell_type": "code",
   "execution_count": 6,
   "metadata": {},
   "outputs": [],
   "source": [
    "func = lambda q : sqldf(q , globals())\n",
    "\n",
    "q = \"\"\"\n",
    "select *\n",
    "from Ita_Dev18\n",
    "where FormalEducation like '%Master%' or \n",
    "    FormalEducation like '%Bachelor%' or \n",
    "    FormalEducation like '%Professional%' or \n",
    "    FormalEducation like '%doctoral%';\n",
    "\"\"\"\n",
    "\n",
    "Dev_OverQual18_Ita = func(q)"
   ]
  },
  {
   "cell_type": "code",
   "execution_count": 7,
   "metadata": {},
   "outputs": [],
   "source": [
    "### percentage of woman developer overqualified on number of developer women##\n",
    "Dev_OverQual_F18_Ita = len(Dev_OverQual18_Ita.loc[Dev_OverQual18_Ita['Gender']=='Female'])/Ita_F18.shape[0] * 100 \n",
    "\n",
    "### percentage of man developer overqualified on number of developer man##\n",
    "Dev_OverQual_M18_Ita = len(Dev_OverQual18_Ita.loc[Dev_OverQual18_Ita['Gender']=='Male'])/Ita_M18.shape[0] * 100 "
   ]
  },
  {
   "cell_type": "code",
   "execution_count": 8,
   "metadata": {},
   "outputs": [
    {
     "name": "stdout",
     "output_type": "stream",
     "text": [
      "70.83 %\n",
      "55.94 %\n"
     ]
    }
   ],
   "source": [
    "print(\"{:.2f} %\".format(Dev_OverQual_F18_Ita))\n",
    "print(\"{:.2f} %\".format(Dev_OverQual_M18_Ita))"
   ]
  },
  {
   "cell_type": "code",
   "execution_count": 48,
   "metadata": {},
   "outputs": [],
   "source": [
    "####### export Ita18 outputs #######\n",
    "Italy_2018.to_excel(r'C:\\Users\\moryb\\OneDrive\\Desktop\\Project1\\output\\output_18\\Ita_18\\Italy_2018.xlsx', index=False, header=True)\n",
    "Ita_2018.to_excel(r'C:\\Users\\moryb\\OneDrive\\Desktop\\Project1\\output\\output_18\\Ita_18\\ItaDropnaByGender_2018.xlsx', index=False, header=True)\n",
    "Ita_18.to_excel(r'C:\\Users\\moryb\\OneDrive\\Desktop\\Project1\\output\\output_18\\Ita_18\\ItaMF_18.xlsx', index=False, header=True)\n",
    "Ita_Dev18.to_excel(r'C:\\Users\\moryb\\OneDrive\\Desktop\\Project1\\output\\output_18\\Ita_18\\ItaDev_18.xlsx', index=False, header=True)\n",
    "Ita_F18.to_excel(r'C:\\Users\\moryb\\OneDrive\\Desktop\\Project1\\output\\output_18\\Ita_18\\ItaDev_F18.xlsx', index=False, header=True)\n",
    "Ita_M18.to_excel(r'C:\\Users\\moryb\\OneDrive\\Desktop\\Project1\\output\\output_18\\Ita_18\\ItaDev_M18.xlsx', index=False, header=True)\n",
    "Dev_OverQual18_Ita.to_excel(r'C:\\Users\\moryb\\OneDrive\\Desktop\\Project1\\output\\output_18\\Ita_18\\ItaDev_OverQ18.xlsx', index=False, header=True)"
   ]
  },
  {
   "cell_type": "markdown",
   "metadata": {},
   "source": [
    "## USA situation in 2018"
   ]
  },
  {
   "cell_type": "code",
   "execution_count": 9,
   "metadata": {},
   "outputs": [
    {
     "name": "stderr",
     "output_type": "stream",
     "text": [
      "C:\\Users\\moryb\\anaconda\\lib\\site-packages\\ipykernel_launcher.py:5: UserWarning: Boolean Series key will be reindexed to match DataFrame index.\n",
      "  \"\"\"\n"
     ]
    }
   ],
   "source": [
    "Usa_2018 = stack_2018.loc[stack_2018['Country']=='United States']\n",
    "\n",
    "Usa_18 = Usa_2018.dropna(subset = ['Gender'])\n",
    "\n",
    "USA_MF18 = Usa_18[Usa_2018['Gender'].isin(['Male','Female'])]\n",
    "#In this part I used dropna in order to drop all null value in the column Gender. For my analysis I need only to know if the gender is Male of Female#\n",
    "Usa_Dev18 = USA_MF18.dropna(subset = ['DevType'])\n",
    "\n",
    "Usa_F18 = Usa_Dev18.loc[Usa_Dev18['Gender']=='Female']\n",
    "\n",
    "Usa_M18 = Usa_Dev18.loc[Usa_Dev18['Gender']=='Male']"
   ]
  },
  {
   "cell_type": "markdown",
   "metadata": {},
   "source": [
    "## Results for USA in 2018"
   ]
  },
  {
   "cell_type": "code",
   "execution_count": 10,
   "metadata": {},
   "outputs": [
    {
     "name": "stdout",
     "output_type": "stream",
     "text": [
      "14863\n",
      "1251\n",
      "13612\n"
     ]
    }
   ],
   "source": [
    "# A first overview of the total number of people in tech world in Usa based on the data of the survey#\n",
    "print(Usa_Dev18.shape[0])\n",
    "# A first overview of the number of women in tech world in Usa based on the data of the survey#\n",
    "print(Usa_F18.shape[0])\n",
    "# A first overview of the total number of men in tech world in Usa based on the data of the survey#\n",
    "print(Usa_M18.shape[0])"
   ]
  },
  {
   "cell_type": "code",
   "execution_count": 11,
   "metadata": {},
   "outputs": [],
   "source": [
    "perc_Usa_F18 = Usa_F18.shape[0] / Usa_Dev18.shape[0] *100"
   ]
  },
  {
   "cell_type": "code",
   "execution_count": 12,
   "metadata": {},
   "outputs": [
    {
     "data": {
      "text/plain": [
       "'8.42 %'"
      ]
     },
     "execution_count": 12,
     "metadata": {},
     "output_type": "execute_result"
    }
   ],
   "source": [
    "\"{:.2f} %\".format(perc_Usa_F18)"
   ]
  },
  {
   "cell_type": "code",
   "execution_count": 13,
   "metadata": {},
   "outputs": [],
   "source": [
    "func_1 = lambda d : sqldf(d , globals())\n",
    "\n",
    "d = \"\"\"\n",
    "select *\n",
    "from Usa_Dev18\n",
    "where FormalEducation like '%Master%' or \n",
    "FormalEducation like '%Bachelor%' or \n",
    "FormalEducation like '%Professional%' or \n",
    "FormalEducation like '%doctoral%';\n",
    "\"\"\"\n",
    "\n",
    "Dev_OverQual18_Usa = func_1(d)"
   ]
  },
  {
   "cell_type": "code",
   "execution_count": 14,
   "metadata": {},
   "outputs": [
    {
     "data": {
      "text/html": [
       "<div>\n",
       "<style scoped>\n",
       "    .dataframe tbody tr th:only-of-type {\n",
       "        vertical-align: middle;\n",
       "    }\n",
       "\n",
       "    .dataframe tbody tr th {\n",
       "        vertical-align: top;\n",
       "    }\n",
       "\n",
       "    .dataframe thead th {\n",
       "        text-align: right;\n",
       "    }\n",
       "</style>\n",
       "<table border=\"1\" class=\"dataframe\">\n",
       "  <thead>\n",
       "    <tr style=\"text-align: right;\">\n",
       "      <th></th>\n",
       "      <th>Country</th>\n",
       "      <th>Gender</th>\n",
       "      <th>FormalEducation</th>\n",
       "      <th>DevType</th>\n",
       "      <th>Salary</th>\n",
       "    </tr>\n",
       "  </thead>\n",
       "  <tbody>\n",
       "    <tr>\n",
       "      <th>11045</th>\n",
       "      <td>United States</td>\n",
       "      <td>Male</td>\n",
       "      <td>Other doctoral degree (Ph.D, Ed.D., etc.)</td>\n",
       "      <td>Educator or academic researcher</td>\n",
       "      <td>None</td>\n",
       "    </tr>\n",
       "    <tr>\n",
       "      <th>11046</th>\n",
       "      <td>United States</td>\n",
       "      <td>Male</td>\n",
       "      <td>Bachelor’s degree (BA, BS, B.Eng., etc.)</td>\n",
       "      <td>Student</td>\n",
       "      <td>None</td>\n",
       "    </tr>\n",
       "    <tr>\n",
       "      <th>11047</th>\n",
       "      <td>United States</td>\n",
       "      <td>Male</td>\n",
       "      <td>Master’s degree (MA, MS, M.Eng., MBA, etc.)</td>\n",
       "      <td>Educator or academic researcher</td>\n",
       "      <td>None</td>\n",
       "    </tr>\n",
       "    <tr>\n",
       "      <th>11048</th>\n",
       "      <td>United States</td>\n",
       "      <td>Male</td>\n",
       "      <td>Master’s degree (MA, MS, M.Eng., MBA, etc.)</td>\n",
       "      <td>Student</td>\n",
       "      <td>None</td>\n",
       "    </tr>\n",
       "    <tr>\n",
       "      <th>11049</th>\n",
       "      <td>United States</td>\n",
       "      <td>Male</td>\n",
       "      <td>Bachelor’s degree (BA, BS, B.Eng., etc.)</td>\n",
       "      <td>C-suite executive (CEO, CTO, etc.)</td>\n",
       "      <td>None</td>\n",
       "    </tr>\n",
       "  </tbody>\n",
       "</table>\n",
       "</div>"
      ],
      "text/plain": [
       "             Country Gender                              FormalEducation  \\\n",
       "11045  United States   Male    Other doctoral degree (Ph.D, Ed.D., etc.)   \n",
       "11046  United States   Male     Bachelor’s degree (BA, BS, B.Eng., etc.)   \n",
       "11047  United States   Male  Master’s degree (MA, MS, M.Eng., MBA, etc.)   \n",
       "11048  United States   Male  Master’s degree (MA, MS, M.Eng., MBA, etc.)   \n",
       "11049  United States   Male     Bachelor’s degree (BA, BS, B.Eng., etc.)   \n",
       "\n",
       "                                  DevType Salary  \n",
       "11045     Educator or academic researcher   None  \n",
       "11046                             Student   None  \n",
       "11047     Educator or academic researcher   None  \n",
       "11048                             Student   None  \n",
       "11049  C-suite executive (CEO, CTO, etc.)   None  "
      ]
     },
     "execution_count": 14,
     "metadata": {},
     "output_type": "execute_result"
    }
   ],
   "source": [
    "Dev_OverQual18_Usa.tail()"
   ]
  },
  {
   "cell_type": "code",
   "execution_count": 15,
   "metadata": {},
   "outputs": [],
   "source": [
    "### percentage of women developer overqualified on number of women  developer##\n",
    "Dev_OverQual_F18_Usa = len(Dev_OverQual18_Usa.loc[Dev_OverQual18_Usa['Gender']=='Female'])/Usa_F18.shape[0] * 100 \n",
    "### percentage of men developer overqualified on number men developer##\n",
    "Dev_OverQual_M18_Usa = len(Dev_OverQual18_Usa.loc[Dev_OverQual18_Usa['Gender']=='Male'])/Usa_M18.shape[0] * 100 "
   ]
  },
  {
   "cell_type": "code",
   "execution_count": 16,
   "metadata": {},
   "outputs": [
    {
     "name": "stdout",
     "output_type": "stream",
     "text": [
      "84.49 %\n",
      "73.41 %\n"
     ]
    }
   ],
   "source": [
    "### percentage of woman developer overqualified on number of developer women##\n",
    "print(\"{:.2f} %\".format(Dev_OverQual_F18_Usa))\n",
    "### percentage of man developer overqualified on number of developer man##\n",
    "print(\"{:.2f} %\".format(Dev_OverQual_M18_Usa))"
   ]
  },
  {
   "cell_type": "code",
   "execution_count": 52,
   "metadata": {},
   "outputs": [],
   "source": [
    "########### export output Usa 2018 #########################\n",
    "\n",
    "Usa_2018.to_excel(r'C:\\Users\\moryb\\OneDrive\\Desktop\\Project1\\output\\output_18\\Usa_18\\Usa_2018.xlsx', index=False, header=True)\n",
    "Usa_18.to_excel(r'C:\\Users\\moryb\\OneDrive\\Desktop\\Project1\\output\\output_18\\Usa_18\\UsaDropnaByGender_2018.xlsx', index=False, header=True)\n",
    "USA_MF18.to_excel(r'C:\\Users\\moryb\\OneDrive\\Desktop\\Project1\\output\\output_18\\Usa_18\\UsaMF_18.xlsx', index=False, header=True)\n",
    "Usa_Dev18.to_excel(r'C:\\Users\\moryb\\OneDrive\\Desktop\\Project1\\output\\output_18\\Usa_18\\UsaDev_18.xlsx', index=False, header=True)\n",
    "Usa_F18.to_excel(r'C:\\Users\\moryb\\OneDrive\\Desktop\\Project1\\output\\output_18\\Usa_18\\UsaDev_F18.xlsx', index=False, header=True)\n",
    "Usa_M18.to_excel(r'C:\\Users\\moryb\\OneDrive\\Desktop\\Project1\\output\\output_18\\Usa_18\\UsaDev_M18.xlsx', index=False, header=True)\n",
    "Dev_OverQual18_Usa.to_excel(r'C:\\Users\\moryb\\OneDrive\\Desktop\\Project1\\output\\output_18\\Usa_18\\UsaDev_OverQ18.xlsx', index=False, header=True)"
   ]
  }
 ],
 "metadata": {
  "kernelspec": {
   "display_name": "Python 3",
   "language": "python",
   "name": "python3"
  },
  "language_info": {
   "codemirror_mode": {
    "name": "ipython",
    "version": 3
   },
   "file_extension": ".py",
   "mimetype": "text/x-python",
   "name": "python",
   "nbconvert_exporter": "python",
   "pygments_lexer": "ipython3",
   "version": "3.7.6"
  }
 },
 "nbformat": 4,
 "nbformat_minor": 4
}
