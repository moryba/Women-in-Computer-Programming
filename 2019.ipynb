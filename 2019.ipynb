{
 "cells": [
  {
   "cell_type": "markdown",
   "metadata": {},
   "source": [
    "## Business Understanding\n",
    "\n",
    "I am interested in using a data analysis approach to know more about the situation of Women in Computer Programming. I hope to use the analysis results to provide some useful information to everyone who need this kind of research. The key questions I would like to answer are:\n",
    "\n",
    "- what is the situation of women in Italy in the programming world compared to man?\n",
    "- what is the identikit of women who work in computer programming in Italy? What are their qualifications?\n",
    "- Instead in USA, what is the situation of super qualified women in tech ?\n",
    "\n",
    "## Data Understanding\n",
    "\n",
    "The data used in this analysi was Stack Overflow’s developer survey data from 2017 to 2019. Respondents from about 200 countries gave their answers to about 150 survey questions. This notebook attempted to use the survey questions to answer the three questions listed in the Business Understanding section.\n",
    "\n",
    "## Gather Data\n",
    "\n",
    "Data has been gathered by Stack Overflow survey. The following cells import necessary Python libraries, and read them into Pandas Dataframe."
   ]
  },
  {
   "cell_type": "code",
   "execution_count": 11,
   "metadata": {},
   "outputs": [],
   "source": [
    "import pandas as pd\n",
    "import numpy as np \n",
    "import matplotlib.pyplot as plt\n",
    "from pandasql import sqldf"
   ]
  },
  {
   "cell_type": "markdown",
   "metadata": {},
   "source": [
    "## Italy situation in 2019"
   ]
  },
  {
   "cell_type": "markdown",
   "metadata": {},
   "source": [
    "## Prepare Data\n",
    "\n",
    "The following cell help me to access Data, select the columns and the values that I need for my analysis. "
   ]
  },
  {
   "cell_type": "code",
   "execution_count": 2,
   "metadata": {},
   "outputs": [],
   "source": [
    "## Read Data\n",
    "stack_2019 = pd.read_csv('2019_survey_results_public.csv')"
   ]
  },
  {
   "cell_type": "code",
   "execution_count": 3,
   "metadata": {},
   "outputs": [],
   "source": [
    "Italy_2019 = stack_2019.loc[stack_2019['Country']=='Italy']"
   ]
  },
  {
   "cell_type": "code",
   "execution_count": 5,
   "metadata": {},
   "outputs": [],
   "source": [
    "stack_2019 = pd.read_csv('2019_survey_results_public.csv')\n",
    "\n",
    "stack_2019 = stack_2019[['Country','Gender','EdLevel','DevType']]\n",
    "\n",
    "Italy_2019 = stack_2019.loc[stack_2019['Country']=='Italy']\n",
    "#In this part I used dropna in order to drop all null value in the column Gender. For my analysis I need only to know if the gender is Male of Female#\n",
    "Ita_2019 = Italy_2019.dropna(subset = ['Gender'])\n",
    "\n",
    "Ita_19 = Ita_2019[Ita_2019['Gender'].isin(['Man','Woman'])]\n",
    "Ita_Dev19 = Ita_19.dropna(subset = ['DevType'])\n",
    "\n",
    "Ita_F19 = Ita_Dev19.loc[Ita_Dev19['Gender']=='Woman']\n",
    "\n",
    "\n",
    "Ita_M19 = Ita_Dev19.loc[Ita_Dev19['Gender']=='Man']\n"
   ]
  },
  {
   "cell_type": "markdown",
   "metadata": {},
   "source": [
    "## Results for Italy in 2019"
   ]
  },
  {
   "cell_type": "code",
   "execution_count": 6,
   "metadata": {},
   "outputs": [
    {
     "name": "stdout",
     "output_type": "stream",
     "text": [
      "1347\n",
      "47\n",
      "1300\n"
     ]
    }
   ],
   "source": [
    "# A first overview of the total number of people in tech world based on the data of the survey#\n",
    "print(Ita_Dev19.shape[0])\n",
    "# A first overview of the number of female in tech world#\n",
    "print(Ita_F19.shape[0])\n",
    "# A first overview of the number of male in tech world#\n",
    "print(Ita_M19.shape[0])"
   ]
  },
  {
   "cell_type": "code",
   "execution_count": 7,
   "metadata": {},
   "outputs": [],
   "source": [
    "perc_Ita_F19 = Ita_F19.shape[0] / Ita_Dev19.shape[0] *100"
   ]
  },
  {
   "cell_type": "code",
   "execution_count": 8,
   "metadata": {},
   "outputs": [
    {
     "data": {
      "text/plain": [
       "'3.49 %'"
      ]
     },
     "execution_count": 8,
     "metadata": {},
     "output_type": "execute_result"
    }
   ],
   "source": [
    "#Percentage of women in tech world in Italy #\n",
    "\"{:.2f} %\".format(perc_Ita_F19)"
   ]
  },
  {
   "cell_type": "code",
   "execution_count": 9,
   "metadata": {},
   "outputs": [],
   "source": [
    "func = lambda q : sqldf(q , globals())\n",
    "\n",
    "q = \"\"\"\n",
    "select *\n",
    "from Ita_Dev19\n",
    "    where EdLevel like '%Master%' or \n",
    "    EdLevel like'%Bachelor%' or \n",
    "    EdLevel like'%Professional%' or \n",
    "    EdLevel like'%doctoral%';\n",
    "\"\"\""
   ]
  },
  {
   "cell_type": "code",
   "execution_count": 12,
   "metadata": {},
   "outputs": [],
   "source": [
    "Dev_OverQual19_Ita = func(q)"
   ]
  },
  {
   "cell_type": "code",
   "execution_count": 13,
   "metadata": {},
   "outputs": [
    {
     "data": {
      "text/html": [
       "<div>\n",
       "<style scoped>\n",
       "    .dataframe tbody tr th:only-of-type {\n",
       "        vertical-align: middle;\n",
       "    }\n",
       "\n",
       "    .dataframe tbody tr th {\n",
       "        vertical-align: top;\n",
       "    }\n",
       "\n",
       "    .dataframe thead th {\n",
       "        text-align: right;\n",
       "    }\n",
       "</style>\n",
       "<table border=\"1\" class=\"dataframe\">\n",
       "  <thead>\n",
       "    <tr style=\"text-align: right;\">\n",
       "      <th></th>\n",
       "      <th>Country</th>\n",
       "      <th>Gender</th>\n",
       "      <th>EdLevel</th>\n",
       "      <th>DevType</th>\n",
       "    </tr>\n",
       "  </thead>\n",
       "  <tbody>\n",
       "    <tr>\n",
       "      <th>0</th>\n",
       "      <td>Italy</td>\n",
       "      <td>Man</td>\n",
       "      <td>Bachelor’s degree (BA, BS, B.Eng., etc.)</td>\n",
       "      <td>Developer, back-end;Developer, desktop or ente...</td>\n",
       "    </tr>\n",
       "    <tr>\n",
       "      <th>1</th>\n",
       "      <td>Italy</td>\n",
       "      <td>Man</td>\n",
       "      <td>Bachelor’s degree (BA, BS, B.Eng., etc.)</td>\n",
       "      <td>Developer, back-end;Developer, embedded applic...</td>\n",
       "    </tr>\n",
       "    <tr>\n",
       "      <th>2</th>\n",
       "      <td>Italy</td>\n",
       "      <td>Woman</td>\n",
       "      <td>Bachelor’s degree (BA, BS, B.Eng., etc.)</td>\n",
       "      <td>Developer, front-end</td>\n",
       "    </tr>\n",
       "    <tr>\n",
       "      <th>3</th>\n",
       "      <td>Italy</td>\n",
       "      <td>Man</td>\n",
       "      <td>Bachelor’s degree (BA, BS, B.Eng., etc.)</td>\n",
       "      <td>Database administrator;Developer, full-stack</td>\n",
       "    </tr>\n",
       "    <tr>\n",
       "      <th>4</th>\n",
       "      <td>Italy</td>\n",
       "      <td>Man</td>\n",
       "      <td>Bachelor’s degree (BA, BS, B.Eng., etc.)</td>\n",
       "      <td>Developer, back-end</td>\n",
       "    </tr>\n",
       "  </tbody>\n",
       "</table>\n",
       "</div>"
      ],
      "text/plain": [
       "  Country Gender                                   EdLevel  \\\n",
       "0   Italy    Man  Bachelor’s degree (BA, BS, B.Eng., etc.)   \n",
       "1   Italy    Man  Bachelor’s degree (BA, BS, B.Eng., etc.)   \n",
       "2   Italy  Woman  Bachelor’s degree (BA, BS, B.Eng., etc.)   \n",
       "3   Italy    Man  Bachelor’s degree (BA, BS, B.Eng., etc.)   \n",
       "4   Italy    Man  Bachelor’s degree (BA, BS, B.Eng., etc.)   \n",
       "\n",
       "                                             DevType  \n",
       "0  Developer, back-end;Developer, desktop or ente...  \n",
       "1  Developer, back-end;Developer, embedded applic...  \n",
       "2                               Developer, front-end  \n",
       "3       Database administrator;Developer, full-stack  \n",
       "4                                Developer, back-end  "
      ]
     },
     "execution_count": 13,
     "metadata": {},
     "output_type": "execute_result"
    }
   ],
   "source": [
    "Dev_OverQual19_Ita.head()"
   ]
  },
  {
   "cell_type": "code",
   "execution_count": 14,
   "metadata": {},
   "outputs": [],
   "source": [
    "### percentage of women developer overqualified on number of developer women##\n",
    "Dev_OverQual_F19_Ita = len(Dev_OverQual19_Ita.loc[Dev_OverQual19_Ita['Gender']=='Woman'])/Ita_F19.shape[0] * 100 "
   ]
  },
  {
   "cell_type": "code",
   "execution_count": 15,
   "metadata": {},
   "outputs": [],
   "source": [
    "### percentage of men developer overqualified on number of developer men##\n",
    "Dev_OverQual_M19_Ita = len(Dev_OverQual19_Ita.loc[Dev_OverQual19_Ita['Gender']=='Man'])/Ita_M19.shape[0] * 100 "
   ]
  },
  {
   "cell_type": "code",
   "execution_count": 16,
   "metadata": {},
   "outputs": [
    {
     "name": "stdout",
     "output_type": "stream",
     "text": [
      "70.21 %\n",
      "56.38 %\n"
     ]
    }
   ],
   "source": [
    "#percentage of women developer overqualified on number of developer women#\n",
    "print(\"{:.2f} %\".format(Dev_OverQual_F19_Ita))\n",
    "#percentage of women developer overqualified on number of developer women#\n",
    "print(\"{:.2f} %\".format(Dev_OverQual_M19_Ita))"
   ]
  },
  {
   "cell_type": "code",
   "execution_count": 17,
   "metadata": {},
   "outputs": [],
   "source": [
    "##################### export Ita18 outputs ##########################################\n",
    "Italy_2019.to_excel(r'C:\\Users\\moryb\\OneDrive\\Desktop\\Project1\\output\\output_19\\Ita_19\\Italy_2019.xlsx', index=False, header=True)\n",
    "Ita_2019.to_excel(r'C:\\Users\\moryb\\OneDrive\\Desktop\\Project1\\output\\output_19\\Ita_19\\ItaDropnaByGender_2019.xlsx', index=False, header=True)\n",
    "Ita_19.to_excel(r'C:\\Users\\moryb\\OneDrive\\Desktop\\Project1\\output\\output_19\\Ita_19\\ItaMF_19.xlsx', index=False, header=True)\n",
    "Ita_Dev19.to_excel(r'C:\\Users\\moryb\\OneDrive\\Desktop\\Project1\\output\\output_19\\Ita_19\\ItaDev_19.xlsx', index=False, header=True)\n",
    "Ita_F19.to_excel(r'C:\\Users\\moryb\\OneDrive\\Desktop\\Project1\\output\\output_19\\Ita_19\\ItaDev_F19.xlsx', index=False, header=True)\n",
    "Ita_M19.to_excel(r'C:\\Users\\moryb\\OneDrive\\Desktop\\Project1\\output\\output_19\\Ita_19\\ItaDev_M19.xlsx', index=False, header=True)\n",
    "Dev_OverQual19_Ita.to_excel(r'C:\\Users\\moryb\\OneDrive\\Desktop\\Project1\\output\\output_19\\Ita_19\\ItaDev_OverQ19.xlsx', index=False, header=True)\n",
    "\n"
   ]
  },
  {
   "cell_type": "markdown",
   "metadata": {},
   "source": [
    "## USA Situation in 2019  \n",
    "\n",
    "## Prepare Data\n",
    "\n",
    "The following cell help me to access Data, select the columns and the values that I need for my analysis"
   ]
  },
  {
   "cell_type": "code",
   "execution_count": 18,
   "metadata": {},
   "outputs": [],
   "source": [
    "Usa_2019 = stack_2019.loc[stack_2019['Country']=='United States']\n",
    "#In this part I used dropna in order to drop all null value in the column Gender. For my analysis I need only to know if the gender is Male of Female#\n",
    "Usa_2019 = Usa_2019.dropna(subset = ['Gender'])\n",
    "\n",
    "USA_MF19 = Usa_2019[Usa_2019['Gender'].isin(['Man','Woman'])]\n",
    "Usa_Dev19 = USA_MF19.dropna(subset = ['DevType'])\n",
    "\n",
    "Usa_F19 = Usa_Dev19.loc[Usa_Dev19['Gender']=='Woman']\n",
    "\n",
    "\n",
    "Usa_M19 = Usa_Dev19.loc[Usa_Dev19['Gender']=='Man']"
   ]
  },
  {
   "cell_type": "markdown",
   "metadata": {},
   "source": [
    "## Results for Usa in 2019"
   ]
  },
  {
   "cell_type": "code",
   "execution_count": 19,
   "metadata": {},
   "outputs": [
    {
     "name": "stdout",
     "output_type": "stream",
     "text": [
      "18439\n",
      "1945\n",
      "16494\n"
     ]
    }
   ],
   "source": [
    "# A first overview of the total number of people in tech world in Usa based on the data of the survey#\n",
    "print(Usa_Dev19.shape[0])\n",
    "# A first overview of the number of women in tech world in Usa based on the data of the survey#\n",
    "print(Usa_F19.shape[0])\n",
    "# A first overview of the total number of men in tech world in Usa based on the data of the survey#\n",
    "print(Usa_M19.shape[0])"
   ]
  },
  {
   "cell_type": "code",
   "execution_count": 20,
   "metadata": {},
   "outputs": [],
   "source": [
    "perc_Usa_F19 = Usa_F19.shape[0] / Usa_Dev19.shape[0] *100"
   ]
  },
  {
   "cell_type": "code",
   "execution_count": 21,
   "metadata": {},
   "outputs": [
    {
     "data": {
      "text/plain": [
       "10.548294376050762"
      ]
     },
     "execution_count": 21,
     "metadata": {},
     "output_type": "execute_result"
    }
   ],
   "source": [
    "#Percentage of women in tech world in Usa in 2019#\n",
    "perc_Usa_F19"
   ]
  },
  {
   "cell_type": "code",
   "execution_count": 22,
   "metadata": {},
   "outputs": [],
   "source": [
    "func_1 = lambda d : sqldf(d , globals())\n",
    "\n",
    "d = \"\"\"\n",
    "select *\n",
    "from Usa_Dev19\n",
    "where EdLevel like '%Master%' or \n",
    "EdLevel like '%Bachelor%' or \n",
    "EdLevel like '%Professional%' or \n",
    "EdLevel like '%doctoral%';\n",
    "\"\"\""
   ]
  },
  {
   "cell_type": "code",
   "execution_count": 23,
   "metadata": {},
   "outputs": [],
   "source": [
    "Dev_OverQual19_Usa = func_1(d)"
   ]
  },
  {
   "cell_type": "code",
   "execution_count": 24,
   "metadata": {},
   "outputs": [],
   "source": [
    "### USA: percentage of women developer overqualified on number of developer women##\n",
    "\n",
    "Dev_OverQual_F19_Usa = len(Dev_OverQual19_Usa.loc[Dev_OverQual19_Usa['Gender']=='Woman'])/Usa_F19.shape[0] * 100 "
   ]
  },
  {
   "cell_type": "code",
   "execution_count": 25,
   "metadata": {},
   "outputs": [],
   "source": [
    "###USA:  percentage of men developer overqualified on number of developer men##\n",
    "\n",
    "Dev_OverQual_M19_Usa = len(Dev_OverQual19_Usa.loc[Dev_OverQual19_Usa['Gender']=='Man'])/Usa_M19.shape[0] * 100\n"
   ]
  },
  {
   "cell_type": "code",
   "execution_count": 26,
   "metadata": {},
   "outputs": [
    {
     "name": "stdout",
     "output_type": "stream",
     "text": [
      "82.93 %\n",
      "75.41 %\n"
     ]
    }
   ],
   "source": [
    "### percentage of woman developer overqualified on number of developer women##\n",
    "print(\"{:.2f} %\".format(Dev_OverQual_F19_Usa))\n",
    "### percentage of man developer overqualified on number of developer men##\n",
    "print(\"{:.2f} %\".format(Dev_OverQual_M19_Usa))"
   ]
  },
  {
   "cell_type": "code",
   "execution_count": null,
   "metadata": {},
   "outputs": [],
   "source": [
    "################################# export Usa19 outputs ######################\n",
    "\n",
    "Usa_2019.to_excel(r'C:\\Users\\moryb\\OneDrive\\Desktop\\Project1\\output\\output_19\\Usa_19\\Usa_2019.xlsx', index=False, header=True)\n",
    "Usa_19.to_excel(r'C:\\Users\\moryb\\OneDrive\\Desktop\\Project1\\output\\output_19\\Usa_19\\UsaDropnaByGender_2019.xlsx', index=False, header=True)\n",
    "USA_MF19.to_excel(r'C:\\Users\\moryb\\OneDrive\\Desktop\\Project1\\output\\output_19\\Usa_19\\UsaMF_19.xlsx', index=False, header=True)\n",
    "Usa_Dev19.to_excel(r'C:\\Users\\moryb\\OneDrive\\Desktop\\Project1\\output\\output_19\\Usa_19\\UsaDev_19.xlsx', index=False, header=True)\n",
    "Usa_F19.to_excel(r'C:\\Users\\moryb\\OneDrive\\Desktop\\Project1\\output\\output_19\\Usa_19\\UsaDev_F19.xlsx', index=False, header=True)\n",
    "Usa_M19.to_excel(r'C:\\Users\\moryb\\OneDrive\\Desktop\\Project1\\output\\output_19\\Usa_19\\UsaDev_M19.xlsx', index=False, header=True)\n",
    "Dev_OverQual19_Usa.to_excel(r'C:\\Users\\moryb\\OneDrive\\Desktop\\Project1\\output\\output_19\\Usa_19\\UsaDev_OverQ19.xlsx', index=False, header=True)"
   ]
  }
 ],
 "metadata": {
  "kernelspec": {
   "display_name": "Python 3",
   "language": "python",
   "name": "python3"
  },
  "language_info": {
   "codemirror_mode": {
    "name": "ipython",
    "version": 3
   },
   "file_extension": ".py",
   "mimetype": "text/x-python",
   "name": "python",
   "nbconvert_exporter": "python",
   "pygments_lexer": "ipython3",
   "version": "3.7.6"
  }
 },
 "nbformat": 4,
 "nbformat_minor": 4
}
