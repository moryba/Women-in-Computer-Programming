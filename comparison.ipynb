{
 "cells": [
  {
   "cell_type": "markdown",
   "metadata": {},
   "source": [
    "## Business Understanding\n",
    "\n",
    "I am interested in using a data analysis approach to know more about the situation of Women in Computer Programming. I hope to use the analysis results to provide some useful information to everyone who need this kind of research. The key questions I would like to answer are:\n",
    "\n",
    "- what is the situation of women in Italy in the programming world compared to man?\n",
    "- what is the identikit of women who work in computer programming in Italy? What are their qualifications?\n",
    "- Instead in USA, what is the situation of super qualified women in tech ?\n",
    "\n",
    "## Data Understanding\n",
    "\n",
    "The data used in this analysi was Stack Overflow’s developer survey data from 2017 to 2019. Respondents from about 200 countries gave their answers to about 150 survey questions. This notebook attempted to use the survey questions to answer the three questions listed in the Business Understanding section.\n",
    "\n",
    "## Gather Data\n",
    "\n",
    "Data has been gathered by Stack Overflow survey. The following cells import necessary Python libraries, and read them into Pandas Dataframe."
   ]
  },
  {
   "cell_type": "code",
   "execution_count": 1,
   "metadata": {},
   "outputs": [],
   "source": [
    "import pandas as pd\n",
    "import numpy as np\n",
    "import matplotlib.pyplot as plt\n",
    "%matplotlib inline"
   ]
  },
  {
   "cell_type": "markdown",
   "metadata": {},
   "source": [
    "## Prepare Data in order to compare the situation of Italy and Usa in three years"
   ]
  },
  {
   "cell_type": "code",
   "execution_count": null,
   "metadata": {},
   "outputs": [],
   "source": [
    "Ita17_Dev = pd.read_excel('ItaDev_17.xlsx')"
   ]
  },
  {
   "cell_type": "code",
   "execution_count": null,
   "metadata": {},
   "outputs": [],
   "source": [
    "Ita17F_Dev = pd.read_excel('ItaDev_F17.xlsx')"
   ]
  },
  {
   "cell_type": "code",
   "execution_count": 61,
   "metadata": {},
   "outputs": [],
   "source": [
    "ItaW_2017 = round(Ita17F_Dev.shape[0]/Ita17_Dev.shape[0]*100, 2)"
   ]
  },
  {
   "cell_type": "code",
   "execution_count": 23,
   "metadata": {},
   "outputs": [],
   "source": [
    "Ita18_Dev = pd.read_excel('ItaDev_18.xlsx')"
   ]
  },
  {
   "cell_type": "code",
   "execution_count": 24,
   "metadata": {},
   "outputs": [],
   "source": [
    "Ita18F_Dev = pd.read_excel('ItaDev_F18.xlsx')"
   ]
  },
  {
   "cell_type": "code",
   "execution_count": 62,
   "metadata": {},
   "outputs": [],
   "source": [
    "ItaW_2018 = round(Ita18F_Dev.shape[0]/Ita18_Dev.shape[0]*100, 2)"
   ]
  },
  {
   "cell_type": "code",
   "execution_count": 26,
   "metadata": {},
   "outputs": [],
   "source": [
    "Ita19_Dev = pd.read_excel('ItaDev_19.xlsx')\n",
    "Ita19F_Dev = pd.read_excel('ItaDev_F19.xlsx')"
   ]
  },
  {
   "cell_type": "code",
   "execution_count": 63,
   "metadata": {},
   "outputs": [],
   "source": [
    "ItaW_2019 = round(Ita19F_Dev.shape[0]/Ita19_Dev.shape[0]*100, 2)"
   ]
  },
  {
   "cell_type": "markdown",
   "metadata": {},
   "source": [
    "## Data Modeling"
   ]
  },
  {
   "cell_type": "code",
   "execution_count": 29,
   "metadata": {},
   "outputs": [],
   "source": [
    "Usa17_Dev = pd.read_excel('UsaDev_17.xlsx')\n",
    "Usa17F_Dev = pd.read_excel('UsaDev_F17.xlsx')"
   ]
  },
  {
   "cell_type": "code",
   "execution_count": 64,
   "metadata": {},
   "outputs": [],
   "source": [
    "UsaW_2017 = round(Usa17F_Dev.shape[0]/Usa17_Dev.shape[0]*100, 2)"
   ]
  },
  {
   "cell_type": "code",
   "execution_count": 31,
   "metadata": {},
   "outputs": [],
   "source": [
    "Usa18_Dev = pd.read_excel('UsaDev_18.xlsx')\n",
    "Usa18F_Dev = pd.read_excel('UsaDev_F18.xlsx')"
   ]
  },
  {
   "cell_type": "code",
   "execution_count": 65,
   "metadata": {},
   "outputs": [],
   "source": [
    "UsaW_2018 = round(Usa18F_Dev.shape[0]/Usa18_Dev.shape[0]*100, 2)"
   ]
  },
  {
   "cell_type": "code",
   "execution_count": 33,
   "metadata": {},
   "outputs": [],
   "source": [
    "Usa19_Dev = pd.read_excel('UsaDev_19.xlsx')\n",
    "Usa19F_Dev = pd.read_excel('UsaDev_F19.xlsx')"
   ]
  },
  {
   "cell_type": "code",
   "execution_count": 66,
   "metadata": {},
   "outputs": [],
   "source": [
    "UsaW_2019 = round(Usa19F_Dev.shape[0]/Usa19_Dev.shape[0]*100, 2)"
   ]
  },
  {
   "cell_type": "code",
   "execution_count": 67,
   "metadata": {},
   "outputs": [],
   "source": [
    "dictionary = {'Italy': [ItaW_2017, ItaW_2018, ItaW_2019],\n",
    "              'United States': [UsaW_2017, UsaW_2018, UsaW_2019]}"
   ]
  },
  {
   "cell_type": "code",
   "execution_count": 68,
   "metadata": {},
   "outputs": [],
   "source": [
    "Years = [2017,2018,2019]"
   ]
  },
  {
   "cell_type": "code",
   "execution_count": 69,
   "metadata": {},
   "outputs": [],
   "source": [
    "df = pd.DataFrame(dictionary, index = Years)"
   ]
  },
  {
   "cell_type": "code",
   "execution_count": 70,
   "metadata": {},
   "outputs": [
    {
     "data": {
      "text/html": [
       "<div>\n",
       "<style scoped>\n",
       "    .dataframe tbody tr th:only-of-type {\n",
       "        vertical-align: middle;\n",
       "    }\n",
       "\n",
       "    .dataframe tbody tr th {\n",
       "        vertical-align: top;\n",
       "    }\n",
       "\n",
       "    .dataframe thead th {\n",
       "        text-align: right;\n",
       "    }\n",
       "</style>\n",
       "<table border=\"1\" class=\"dataframe\">\n",
       "  <thead>\n",
       "    <tr style=\"text-align: right;\">\n",
       "      <th></th>\n",
       "      <th>Italy</th>\n",
       "      <th>United States</th>\n",
       "    </tr>\n",
       "  </thead>\n",
       "  <tbody>\n",
       "    <tr>\n",
       "      <th>2017</th>\n",
       "      <td>3.07</td>\n",
       "      <td>9.98</td>\n",
       "    </tr>\n",
       "    <tr>\n",
       "      <th>2018</th>\n",
       "      <td>2.34</td>\n",
       "      <td>8.42</td>\n",
       "    </tr>\n",
       "    <tr>\n",
       "      <th>2019</th>\n",
       "      <td>3.49</td>\n",
       "      <td>10.55</td>\n",
       "    </tr>\n",
       "  </tbody>\n",
       "</table>\n",
       "</div>"
      ],
      "text/plain": [
       "      Italy  United States\n",
       "2017   3.07           9.98\n",
       "2018   2.34           8.42\n",
       "2019   3.49          10.55"
      ]
     },
     "execution_count": 70,
     "metadata": {},
     "output_type": "execute_result"
    }
   ],
   "source": [
    "df"
   ]
  },
  {
   "cell_type": "code",
   "execution_count": 108,
   "metadata": {},
   "outputs": [
    {
     "data": {
      "image/png": "[encoded data removed]",
      "text/plain": [
       "<Figure size 432x288 with 1 Axes>"
      ]
     },
     "metadata": {
      "needs_background": "light"
     },
     "output_type": "display_data"
    }
   ],
   "source": [
    "from matplotlib.ticker import PercentFormatter\n",
    "ax = df.plot(kind ='bar',width=0.65, color=['lightblue','blue'], rot=0)\n",
    "plt.gca().yaxis.set_major_formatter(PercentFormatter())\n",
    "plt.savefig('Italy_Usa.png')"
   ]
  },
  {
   "cell_type": "markdown",
   "metadata": {},
   "source": [
    "## Super qualified women and  Super qualified men in Italy and in Usa "
   ]
  },
  {
   "cell_type": "markdown",
   "metadata": {},
   "source": [
    "- Situation in Italy"
   ]
  },
  {
   "cell_type": "code",
   "execution_count": 133,
   "metadata": {},
   "outputs": [],
   "source": [
    "########### 2017 ##########\n",
    "Ita17_OQ = pd.read_excel('ItaDev_OverQ17.xlsx')\n",
    "Ita17_F =pd.read_excel('ItaDev_F17.xlsx')\n",
    "Ita17_M =pd.read_excel('ItaDev_M17.xlsx')"
   ]
  },
  {
   "cell_type": "code",
   "execution_count": 130,
   "metadata": {},
   "outputs": [],
   "source": [
    "### 2017 percentage of woman developer Super qualified on number of developer women##\n",
    "Dev_OverQual_F17_Ita = round(Ita17_OQ.loc[Ita17_OQ['Gender']=='Female'].shape[0]/Ita17_F.shape[0] * 100, 2) \n",
    "\n",
    "### 2017 percentage of man developer Super qualified on number of developer man##\n",
    "Dev_OverQual_M17_Ita = round(Ita17_OQ.loc[Ita17_OQ['Gender']=='Male'].shape[0]/Ita17_M.shape[0] * 100, 2) "
   ]
  },
  {
   "cell_type": "code",
   "execution_count": 128,
   "metadata": {},
   "outputs": [
    {
     "name": "stdout",
     "output_type": "stream",
     "text": [
      "91.67\n",
      "77.57\n"
     ]
    }
   ],
   "source": [
    "print(Dev_OverQual_F17_Ita) \n",
    "print(Dev_OverQual_M17_Ita)"
   ]
  },
  {
   "cell_type": "code",
   "execution_count": 135,
   "metadata": {},
   "outputs": [],
   "source": [
    "######### 2018 ###########\n",
    "Ita18_OQ = pd.read_excel('ItaDev_OverQ18.xlsx')\n",
    "Ita18_F =pd.read_excel('ItaDev_F18.xlsx')\n",
    "Ita18_M =pd.read_excel('ItaDev_M18.xlsx')"
   ]
  },
  {
   "cell_type": "code",
   "execution_count": 131,
   "metadata": {},
   "outputs": [],
   "source": [
    "### 2018 percentage of woman developer overqualified on number of developer women##\n",
    "Dev_OverQual_F18_Ita = round(Ita18_OQ.loc[Ita18_OQ['Gender']=='Female'].shape[0]/Ita18_F.shape[0] * 100, 2) \n",
    "\n",
    "### 2018 percentage of man developer overqualified on number of developer man##\n",
    "Dev_OverQual_M18_Ita = round(Ita18_OQ.loc[Ita18_OQ['Gender']=='Male'].shape[0]/Ita18_M.shape[0] * 100, 2) "
   ]
  },
  {
   "cell_type": "code",
   "execution_count": 132,
   "metadata": {},
   "outputs": [
    {
     "name": "stdout",
     "output_type": "stream",
     "text": [
      "70.83\n",
      "55.94\n"
     ]
    }
   ],
   "source": [
    "print(Dev_OverQual_F18_Ita) \n",
    "print(Dev_OverQual_M18_Ita)"
   ]
  },
  {
   "cell_type": "code",
   "execution_count": 138,
   "metadata": {},
   "outputs": [],
   "source": [
    "####### 2019 ##########\n",
    "Ita19_OQ = pd.read_excel('ItaDev_OverQ19.xlsx')\n",
    "Ita19_F =pd.read_excel('ItaDev_F19.xlsx')\n",
    "Ita19_M =pd.read_excel('ItaDev_M19.xlsx')"
   ]
  },
  {
   "cell_type": "code",
   "execution_count": 142,
   "metadata": {},
   "outputs": [],
   "source": [
    "Ita19_OQ = pd.read_excel('ItaDev_OverQ19.xlsx')"
   ]
  },
  {
   "cell_type": "code",
   "execution_count": 145,
   "metadata": {},
   "outputs": [],
   "source": [
    "### 2019 percentage of woman developer Super qualified on number of developer women##\n",
    "Dev_OverQual_F19_Ita = round(Ita19_OQ.loc[Ita19_OQ['Gender']=='Woman'].shape[0]/Ita19_F.shape[0] * 100, 2) \n",
    "\n",
    "### 2019 percentage of man developer Super qualified on number of developer man##\n",
    "Dev_OverQual_M19_Ita = round(Ita19_OQ.loc[Ita19_OQ['Gender']=='Man'].shape[0]/Ita19_M.shape[0] * 100, 2) "
   ]
  },
  {
   "cell_type": "code",
   "execution_count": 146,
   "metadata": {},
   "outputs": [
    {
     "name": "stdout",
     "output_type": "stream",
     "text": [
      "70.21\n",
      "56.38\n"
     ]
    }
   ],
   "source": [
    "print(Dev_OverQual_F19_Ita) \n",
    "print(Dev_OverQual_M19_Ita)"
   ]
  },
  {
   "cell_type": "code",
   "execution_count": 159,
   "metadata": {},
   "outputs": [],
   "source": [
    "dictionary_1 = {'Women':[Dev_OverQual_F17_Ita, Dev_OverQual_F18_Ita, Dev_OverQual_F19_Ita],\n",
    "                 'Men':[Dev_OverQual_M17_Ita, Dev_OverQual_M18_Ita, Dev_OverQual_M19_Ita]}\n",
    "\n",
    "df_1 = pd.DataFrame(dictionary_1, index= Years)"
   ]
  },
  {
   "cell_type": "code",
   "execution_count": 182,
   "metadata": {},
   "outputs": [
    {
     "data": {
      "image/png": "[encoded data removed]",
      "text/plain": [
       "<Figure size 432x288 with 1 Axes>"
      ]
     },
     "metadata": {
      "needs_background": "light"
     },
     "output_type": "display_data"
    }
   ],
   "source": [
    "ax = df_1.plot(kind ='bar',width=0.65, color=['pink','lightblue'], rot=0)\n",
    "plt.gca().yaxis.set_major_formatter(PercentFormatter())\n",
    "plt.savefig('Itly.png')"
   ]
  },
  {
   "cell_type": "markdown",
   "metadata": {},
   "source": [
    "- Situation in United States "
   ]
  },
  {
   "cell_type": "code",
   "execution_count": 153,
   "metadata": {},
   "outputs": [],
   "source": [
    "######## 2017 ############"
   ]
  },
  {
   "cell_type": "code",
   "execution_count": 163,
   "metadata": {},
   "outputs": [],
   "source": [
    "Usa17_OQ = pd.read_excel('UsaDev_OverQ17.xlsx')\n",
    "Usa17_F =pd.read_excel('UsaDev_F17.xlsx')\n",
    "Usa17_M =pd.read_excel('UsaDev_M17.xlsx')"
   ]
  },
  {
   "cell_type": "code",
   "execution_count": 167,
   "metadata": {},
   "outputs": [],
   "source": [
    "### 2017 percentage of woman developer Super qualified on number of developer women##\n",
    "Dev_OverQual_F17_Usa = round(Usa17_OQ.loc[Usa17_OQ['Gender']=='Female'].shape[0]/Usa17_F.shape[0] * 100, 2) \n",
    "\n",
    "### 2017 percentage of man developer Super qualified on number of developer man##\n",
    "Dev_OverQual_M17_Usa = round(Usa17_OQ.loc[Usa17_OQ['Gender']=='Male'].shape[0]/Usa17_M.shape[0] * 100, 2) "
   ]
  },
  {
   "cell_type": "code",
   "execution_count": 168,
   "metadata": {},
   "outputs": [
    {
     "name": "stdout",
     "output_type": "stream",
     "text": [
      "99.69\n",
      "95.76\n"
     ]
    }
   ],
   "source": [
    "print(Dev_OverQual_F17_Usa) \n",
    "print(Dev_OverQual_M17_Usa)"
   ]
  },
  {
   "cell_type": "code",
   "execution_count": 154,
   "metadata": {},
   "outputs": [],
   "source": [
    "######## 2018 ############"
   ]
  },
  {
   "cell_type": "code",
   "execution_count": 170,
   "metadata": {},
   "outputs": [],
   "source": [
    "Usa18_OQ = pd.read_excel('UsaDev_OverQ18.xlsx')\n",
    "Usa18_F =pd.read_excel('UsaDev_F18.xlsx')\n",
    "Usa18_M =pd.read_excel('UsaDev_M18.xlsx')"
   ]
  },
  {
   "cell_type": "code",
   "execution_count": 171,
   "metadata": {},
   "outputs": [],
   "source": [
    "### 2018 percentage of woman developer Super qualified on number of developer women##\n",
    "Dev_OverQual_F18_Usa = round(Usa18_OQ.loc[Usa18_OQ['Gender']=='Female'].shape[0]/Usa18_F.shape[0] * 100, 2) \n",
    "\n",
    "### 2018 percentage of man developer Super qualified on number of developer man##\n",
    "Dev_OverQual_M18_Usa = round(Usa18_OQ.loc[Usa18_OQ['Gender']=='Male'].shape[0]/Usa18_M.shape[0] * 100, 2) "
   ]
  },
  {
   "cell_type": "code",
   "execution_count": 172,
   "metadata": {},
   "outputs": [
    {
     "name": "stdout",
     "output_type": "stream",
     "text": [
      "84.49\n",
      "73.41\n"
     ]
    }
   ],
   "source": [
    "print(Dev_OverQual_F18_Usa) \n",
    "print(Dev_OverQual_M18_Usa)"
   ]
  },
  {
   "cell_type": "code",
   "execution_count": 155,
   "metadata": {},
   "outputs": [],
   "source": [
    "######## 2019 ############"
   ]
  },
  {
   "cell_type": "code",
   "execution_count": 174,
   "metadata": {},
   "outputs": [],
   "source": [
    "Usa19_OQ = pd.read_excel('UsaDev_OverQ19.xlsx')\n",
    "Usa19_F =pd.read_excel('UsaDev_F19.xlsx')\n",
    "Usa19_M =pd.read_excel('UsaDev_M19.xlsx')"
   ]
  },
  {
   "cell_type": "code",
   "execution_count": 177,
   "metadata": {},
   "outputs": [],
   "source": [
    "### 2019 percentage of woman developer Super qualified on number of developer women##\n",
    "Dev_OverQual_F19_Usa = round(Usa19_OQ.loc[Usa19_OQ['Gender']=='Woman'].shape[0]/Usa19_F.shape[0] * 100, 2) \n",
    "\n",
    "### 2019 percentage of man developer Super qualified on number of developer man##\n",
    "Dev_OverQual_M19_Usa = round(Usa19_OQ.loc[Usa19_OQ['Gender']=='Man'].shape[0]/Usa19_M.shape[0] * 100, 2) "
   ]
  },
  {
   "cell_type": "code",
   "execution_count": 178,
   "metadata": {},
   "outputs": [
    {
     "name": "stdout",
     "output_type": "stream",
     "text": [
      "82.93\n",
      "75.41\n"
     ]
    }
   ],
   "source": [
    "print(Dev_OverQual_F19_Usa) \n",
    "print(Dev_OverQual_M19_Usa)"
   ]
  },
  {
   "cell_type": "code",
   "execution_count": 180,
   "metadata": {},
   "outputs": [],
   "source": [
    "dictionary_2 = {'Women':[Dev_OverQual_F17_Usa, Dev_OverQual_F18_Usa, Dev_OverQual_F19_Usa],\n",
    "                 'Men':[Dev_OverQual_M17_Usa, Dev_OverQual_M18_Usa, Dev_OverQual_M19_Usa]}\n",
    "\n",
    "df_2 = pd.DataFrame(dictionary_2, index= Years)"
   ]
  },
  {
   "cell_type": "code",
   "execution_count": 183,
   "metadata": {},
   "outputs": [
    {
     "data": {
      "image/png": "[encoded data removed]",
      "text/plain": [
       "<Figure size 432x288 with 1 Axes>"
      ]
     },
     "metadata": {
      "needs_background": "light"
     },
     "output_type": "display_data"
    }
   ],
   "source": [
    "ax = df_1.plot(kind ='bar',width=0.65, color=['purple','blue'], rot=0)\n",
    "plt.gca().yaxis.set_major_formatter(PercentFormatter())\n",
    "plt.savefig('USA.png')"
   ]
  }
 ],
 "metadata": {
  "kernelspec": {
   "display_name": "Python 3",
   "language": "python",
   "name": "python3"
  },
  "language_info": {
   "codemirror_mode": {
    "name": "ipython",
    "version": 3
   },
   "file_extension": ".py",
   "mimetype": "text/x-python",
   "name": "python",
   "nbconvert_exporter": "python",
   "pygments_lexer": "ipython3",
   "version": "3.7.6"
  }
 },
 "nbformat": 4,
 "nbformat_minor": 4
}
